{
 "metadata": {
  "name": "",
  "signature": "sha256:fd43cb5b681ef0f5401b489503db79342f0b820c0728838bc2d33de55015300e"
 },
 "nbformat": 3,
 "nbformat_minor": 0,
 "worksheets": [
  {
   "cells": [
    {
     "cell_type": "heading",
     "level": 1,
     "metadata": {},
     "source": [
      "Simple Example Of serf-python"
     ]
    },
    {
     "cell_type": "code",
     "collapsed": false,
     "input": [
      "print 'Written at ',\n",
      "!date"
     ],
     "language": "python",
     "metadata": {},
     "outputs": [
      {
       "output_type": "stream",
       "stream": "stdout",
       "text": [
        "Written at "
       ]
      },
      {
       "output_type": "stream",
       "stream": "stdout",
       "text": [
        "Thu Apr 10 18:15:28 KST 2014\r\n"
       ]
      },
      {
       "output_type": "stream",
       "stream": "stdout",
       "text": [
        "\n"
       ]
      }
     ],
     "prompt_number": 283
    },
    {
     "cell_type": "markdown",
     "metadata": {},
     "source": [
      "## What is `serf`?"
     ]
    },
    {
     "cell_type": "markdown",
     "metadata": {},
     "source": [
      "Recently I found some interesting project, that is [serf](http://www.serfdom.io/) http://www.serfdom.io/. They explain,\n",
      "\n",
      "> Serf is a decentralized solution\n",
      "> for service discovery and orchestration\n",
      "> that is lightweight, highly available, and fault tolerant.\n",
      "\n",
      "For several years, I have been trying to find the solution to create cluster for deeply networked applications with easy way. In my past projects, etcd and zookeeper just simply have been used without any further considerations, but the zookeeper is so heavy in my tiny amazon instance, and the etcd very often showed me the unstable situations, so I need another solutions.\n",
      "\n",
      "In fact, serf is still in development and has the critical limitations,\n",
      "\n",
      "* in serf you can not send or broadcast the messages, which is bigger than about 1024 bytes. To overcome this problems, you will be obliged to use the shared storage.\n",
      "* You can not find the mature client libraries for your languages. Until now, only python libraries available, the [serfclient-py](https://github.com/KushalP/serfclient-py) and [serf-python](https://github.com/spikeekips/serf-python).\n",
      "\n",
      "To use serf in my python-based application, I wrote simple client library, written in python, that is [serf-python](https://github.com/spikeekips/serf-python).\n",
      "\n",
      "In this post, I will show you how to deploy serf and how to use `serf-python`."
     ]
    },
    {
     "cell_type": "markdown",
     "metadata": {},
     "source": [
      "## I-Am-Alive Cluster"
     ]
    },
    {
     "cell_type": "markdown",
     "metadata": {},
     "source": [
      "I will show you simple python application, `i_am_alive.py`, this will broadcast his/her state to others like heartbeats. `i_am_alive.py` will also receive event from the others.\n",
      "\n",
      "All `i_am_alive.py` will be connected to the serf cluster, clustered with 2 nodes :\n",
      "\n",
      "* 2 serf nodes\n",
      "* 3 client of `i_am_alive.py`"
     ]
    },
    {
     "cell_type": "code",
     "collapsed": false,
     "input": [
      "try :\n",
      "    %reload_ext gvmagic\n",
      "except ImportError :\n",
      "    %install_ext https://raw.github.com/cjdrake/ipython-magic/master/gvmagic.py    \n",
      "    %load_ext gvmagic"
     ],
     "language": "python",
     "metadata": {},
     "outputs": [],
     "prompt_number": 2
    },
    {
     "cell_type": "code",
     "collapsed": false,
     "input": [
      "%%dot digraph G {\n",
      "    graph [compound=true, bgcolor=transparent, fontsize=16];\n",
      "    node [bgcolor=transparent, fontname=\"courier\", fontsize=10;];\n",
      "    edge [bgcolor=transparent];\n",
      "\n",
      "    subgraph cluster {\n",
      "        label = \"serf cluster with 2 nodes\";\n",
      "\n",
      "        serf0 [label=\"serf: 127.0.0.1:7946\\nrpc: serf://127.0.0.1:7373\"]\n",
      "        serf1 [label=\"serf: 127.0.0.1:7947\\nrpc: serf://127.0.0.1:7374\"]\n",
      "    } \n",
      "\n",
      "    serf1 -> i_am_alive0 [ltail=cluster, label=\"receive other clients `event_i_am_alive-xx` events\", fontsize=9, fontcolor=red];\n",
      "    i_am_alive0 -> serf1 [lhead=cluster,label=\"send `event_i_am_alive-xx` event\", fontsize=9, fontcolor=blue];\n",
      "\n",
      "    serf0 -> i_am_alive1 [ltail=cluster]; i_am_alive1 -> serf0 [lhead=cluster];\n",
      "    serf0 -> i_am_alive2 [ltail=cluster]; i_am_alive2 -> serf0 [lhead=cluster];\n",
      "}"
     ],
     "language": "python",
     "metadata": {},
     "outputs": [
      {
       "metadata": {},
       "output_type": "display_data",
       "svg": [
        "<?xml version=\"1.0\" encoding=\"UTF-8\" standalone=\"no\"?>\n",
        "<!DOCTYPE svg PUBLIC \"-//W3C//DTD SVG 1.1//EN\"\n",
        " \"http://www.w3.org/Graphics/SVG/1.1/DTD/svg11.dtd\">\n",
        "<!-- Generated by graphviz version 2.36.0 (20140111.2315)\n",
        " -->\n",
        "<!-- Title: G Pages: 1 -->\n",
        "<svg width=\"575pt\" height=\"170pt\"\n",
        " viewBox=\"0.00 0.00 575.45 170.00\" xmlns=\"http://www.w3.org/2000/svg\" xmlns:xlink=\"http://www.w3.org/1999/xlink\">\n",
        "<g id=\"graph0\" class=\"graph\" transform=\"scale(1 1) rotate(0) translate(4 166)\">\n",
        "<title>G</title>\n",
        "<g id=\"clust1\" class=\"cluster\"><title>cluster</title>\n",
        "<polygon fill=\"none\" stroke=\"black\" points=\"8,-74 8,-154 529,-154 529,-74 8,-74\"/>\n",
        "<text text-anchor=\"middle\" x=\"268.5\" y=\"-137.2\" font-family=\"Times,serif\" font-size=\"16.00\">serf cluster with 2 nodes</text>\n",
        "</g>\n",
        "<!-- serf0 -->\n",
        "<g id=\"node1\" class=\"node\"><title>serf0</title>\n",
        "<ellipse fill=\"none\" stroke=\"black\" cx=\"138\" cy=\"-102\" rx=\"121.46\" ry=\"19.6\"/>\n",
        "<text text-anchor=\"middle\" x=\"138\" y=\"-104\" font-family=\"Courier,monospace\" font-size=\"10.00\">serf: 127.0.0.1:7946</text>\n",
        "<text text-anchor=\"middle\" x=\"138\" y=\"-94\" font-family=\"Courier,monospace\" font-size=\"10.00\">rpc: serf://127.0.0.1:7373</text>\n",
        "</g>\n",
        "<!-- i_am_alive1 -->\n",
        "<g id=\"node4\" class=\"node\"><title>i_am_alive1</title>\n",
        "<ellipse fill=\"none\" stroke=\"black\" cx=\"75\" cy=\"-18\" rx=\"47.0244\" ry=\"18\"/>\n",
        "<text text-anchor=\"middle\" x=\"75\" y=\"-15\" font-family=\"Courier,monospace\" font-size=\"10.00\">i_am_alive1</text>\n",
        "</g>\n",
        "<!-- serf0&#45;&gt;i_am_alive1 -->\n",
        "<g id=\"edge3\" class=\"edge\"><title>serf0&#45;&gt;i_am_alive1</title>\n",
        "<path fill=\"none\" stroke=\"black\" d=\"M115.165,-74.2509C112.374,-70.8338 109.594,-67.3573 107,-64 102.165,-57.7413 97.1229,-50.8431 92.5094,-44.3675\"/>\n",
        "<polygon fill=\"black\" stroke=\"black\" points=\"95.1639,-42.0583 86.5435,-35.8988 89.4413,-46.0897 95.1639,-42.0583\"/>\n",
        "</g>\n",
        "<!-- i_am_alive2 -->\n",
        "<g id=\"node5\" class=\"node\"><title>i_am_alive2</title>\n",
        "<ellipse fill=\"none\" stroke=\"black\" cx=\"188\" cy=\"-18\" rx=\"47.0244\" ry=\"18\"/>\n",
        "<text text-anchor=\"middle\" x=\"188\" y=\"-15\" font-family=\"Courier,monospace\" font-size=\"10.00\">i_am_alive2</text>\n",
        "</g>\n",
        "<!-- serf0&#45;&gt;i_am_alive2 -->\n",
        "<g id=\"edge5\" class=\"edge\"><title>serf0&#45;&gt;i_am_alive2</title>\n",
        "<path fill=\"none\" stroke=\"black\" d=\"M154.299,-74.2696C160.139,-64.6916 166.703,-53.9265 172.476,-44.459\"/>\n",
        "<polygon fill=\"black\" stroke=\"black\" points=\"175.604,-46.0529 177.821,-35.6928 169.627,-42.4086 175.604,-46.0529\"/>\n",
        "</g>\n",
        "<!-- serf1 -->\n",
        "<g id=\"node2\" class=\"node\"><title>serf1</title>\n",
        "<ellipse fill=\"none\" stroke=\"black\" cx=\"399\" cy=\"-102\" rx=\"121.46\" ry=\"19.6\"/>\n",
        "<text text-anchor=\"middle\" x=\"399\" y=\"-104\" font-family=\"Courier,monospace\" font-size=\"10.00\">serf: 127.0.0.1:7947</text>\n",
        "<text text-anchor=\"middle\" x=\"399\" y=\"-94\" font-family=\"Courier,monospace\" font-size=\"10.00\">rpc: serf://127.0.0.1:7374</text>\n",
        "</g>\n",
        "<!-- i_am_alive0 -->\n",
        "<g id=\"node3\" class=\"node\"><title>i_am_alive0</title>\n",
        "<ellipse fill=\"none\" stroke=\"black\" cx=\"383\" cy=\"-18\" rx=\"47.0244\" ry=\"18\"/>\n",
        "<text text-anchor=\"middle\" x=\"383\" y=\"-15\" font-family=\"Courier,monospace\" font-size=\"10.00\">i_am_alive0</text>\n",
        "</g>\n",
        "<!-- serf1&#45;&gt;i_am_alive0 -->\n",
        "<g id=\"edge1\" class=\"edge\"><title>serf1&#45;&gt;i_am_alive0</title>\n",
        "<path fill=\"none\" stroke=\"black\" d=\"M275.274,-74.2097C268.869,-71.0898 263.909,-67.6882 261.08,-64 240.591,-37.2904 285.396,-26.429 326.347,-22.0152\"/>\n",
        "<polygon fill=\"black\" stroke=\"black\" points=\"326.741,-25.4935 336.359,-21.0497 326.069,-18.5258 326.741,-25.4935\"/>\n",
        "<text text-anchor=\"middle\" x=\"352.96\" y=\"-56.3\" font-family=\"Times,serif\" font-size=\"9.00\" fill=\"red\">receive other clients `event_i_am_alive&#45;xx` events</text>\n",
        "</g>\n",
        "<!-- i_am_alive0&#45;&gt;serf1 -->\n",
        "<g id=\"edge2\" class=\"edge\"><title>i_am_alive0&#45;&gt;serf1</title>\n",
        "<path fill=\"none\" stroke=\"black\" d=\"M416.627,-30.8286C426.942,-36.2209 437.114,-43.7519 443,-54 445.172,-57.7819 445.66,-61.5027 444.927,-65.0934\"/>\n",
        "<polygon fill=\"black\" stroke=\"black\" points=\"441.7,-63.7252 440.45,-74.2462 447.988,-66.8005 441.7,-63.7252\"/>\n",
        "<text text-anchor=\"middle\" x=\"506.227\" y=\"-56.3\" font-family=\"Times,serif\" font-size=\"9.00\" fill=\"blue\">send `event_i_am_alive&#45;xx` event</text>\n",
        "</g>\n",
        "<!-- i_am_alive1&#45;&gt;serf0 -->\n",
        "<g id=\"edge4\" class=\"edge\"><title>i_am_alive1&#45;&gt;serf0</title>\n",
        "<path fill=\"none\" stroke=\"black\" d=\"M90.8552,-35.2661C96.1894,-41.0142 102.041,-47.6351 107,-54 111.791,-60.1494 116.605,-67.0286 120.964,-73.5862\"/>\n",
        "<polygon fill=\"black\" stroke=\"black\" points=\"111.327,-71.3238 121.579,-74 115.234,-65.5148 111.327,-71.3238\"/>\n",
        "</g>\n",
        "<!-- i_am_alive2&#45;&gt;serf0 -->\n",
        "<g id=\"edge6\" class=\"edge\"><title>i_am_alive2&#45;&gt;serf0</title>\n",
        "<path fill=\"none\" stroke=\"black\" d=\"M183.243,-35.9184C180.388,-44.6576 176.28,-55.2861 171,-64 170.607,-64.6492 170.201,-65.2975 169.785,-65.9443\"/>\n",
        "<polygon fill=\"black\" stroke=\"black\" points=\"166.845,-64.0385 163.874,-74.2083 172.539,-68.1107 166.845,-64.0385\"/>\n",
        "</g>\n",
        "</g>\n",
        "</svg>\n"
       ]
      }
     ],
     "prompt_number": 8
    },
    {
     "cell_type": "markdown",
     "metadata": {},
     "source": [
      "## Install and Deploy serf"
     ]
    },
    {
     "cell_type": "markdown",
     "metadata": {},
     "source": [
      "To install `serf`, see the official installation document, http://www.serfdom.io/intro/getting-started/install.html. As you can find, there is just one binary file, so you don't need to install the other additional libraries or files, very simple and intuitive.\n",
      "\n",
      "In latest OSX, download latest serf binary from http://www.serfdom.io/downloads.html .\n",
      "\n",
      "You need `virtualenv`.\n",
      "\n",
      "```sh\n",
      "$ virtualenv i_am_alive\n",
      "\n",
      "$ cd i_am_alive\n",
      "\n",
      "$ source i_am_alive\n",
      "\n",
      "$ curl -L -o serf-0.5.0.zip https://dl.bintray.com/mitchellh/serf/0.5.0_darwin_amd64.zip\n",
      "\n",
      "$ unzip serf-0.5.0.zip\n",
      "\n",
      "$ mv serf bin/\n",
      "```"
     ]
    },
    {
     "cell_type": "markdown",
     "metadata": {},
     "source": [
      "## Install `serf-python`"
     ]
    },
    {
     "cell_type": "markdown",
     "metadata": {},
     "source": [
      "You can easily `serf-python` with `pip`.\n",
      "\n",
      "```sh\n",
      "$ pip install serf-python\n",
      "\n",
      "$ python\n",
      ">>> import serf\n",
      "```"
     ]
    },
    {
     "cell_type": "markdown",
     "metadata": {},
     "source": [
      "## `i_am_alive.py`"
     ]
    },
    {
     "cell_type": "markdown",
     "metadata": {},
     "source": [
      "Save the belowed code to `i_am_alive.py`."
     ]
    },
    {
     "cell_type": "markdown",
     "metadata": {},
     "source": [
      "```python\n",
      "import os\n",
      "import re\n",
      "import time\n",
      "import sys\n",
      "import threading\n",
      "import logging\n",
      "import serf\n",
      "\n",
      "\n",
      "# set logging\n",
      "logging.basicConfig()\n",
      "\n",
      "log = logging.getLogger('serf-rpc-client', )\n",
      "#log.setLevel(logging.INFO, ) # For see the log from `serf-python`, uncomment this.\n",
      "\n",
      "log = logging.getLogger('i_am_alive', )\n",
      "log.setLevel(logging.WARN, )\n",
      "#log.setLevel(logging.INFO, ) # if you want to see the log from this script, uncomment this.\n",
      "\n",
      "\n",
      "INTERVAL_SEND_EVENT = 2 # interval to send event\n",
      "WAIT_TIME_CLIENT = INTERVAL_SEND_EVENT + 1\n",
      "\n",
      "\n",
      "# this thread-based class will send event\n",
      "class EventSender (threading.Thread, ) :\n",
      "    interval = 2\n",
      "\n",
      "    def __init__ (self, client, client_id, ) :\n",
      "        threading.Thread.__init__(self)\n",
      "\n",
      "        self._client = client\n",
      "        self._client_id = client_id\n",
      "\n",
      "    def run (self, ) :\n",
      "        while True :\n",
      "            log.info('send `event_i_am_alive` event', )\n",
      "            self._client.event(\n",
      "                    Name='event_i_am_alive-%s' % self._client_id,\n",
      "                    Payload=CLIENT_ID,\n",
      "                    Coalesce=True,\n",
      "                ).request()\n",
      "            time.sleep(INTERVAL_SEND_EVENT, )\n",
      "        \n",
      "        return\n",
      "\n",
      "\n",
      "def _callback_stream (response, ) :\n",
      "    log.info('got response: %s' % response, )\n",
      "    log.info('\\t body: %s' % response.body, )\n",
      "\n",
      "    if response.body.get('Event') not in ('user', ) :\n",
      "        return\n",
      "\n",
      "    if not response.body.get('Name').startswith('event_i_am_alive-') :\n",
      "        return\n",
      "\n",
      "    _client_id_received = re.compile('^event_i_am_alive-(?P<client_id>\\d+)$').search(\n",
      "            response.body.get('Name', ),\n",
      "        ).groupdict().get('client_id')\n",
      "    _is_new = _client_id_received not in CLIENTS\n",
      "\n",
      "    CLIENTS[_client_id_received] = time.time()\n",
      "\n",
      "    print '\\nfound %d clients: %s' % (len(CLIENTS), time.time(), )\n",
      "    for _client_id, _updated in CLIENTS.items() :\n",
      "        if _updated < time.time() - WAIT_TIME_CLIENT :\n",
      "            del CLIENTS[_client_id]\n",
      "            continue\n",
      "\n",
      "        print '* client-id: %s, last updated: %s, [%-5s], [%-5s]' % (\n",
      "                _client_id,\n",
      "                '%0.2f' % _updated,\n",
      "                'me' if _client_id == CLIENT_ID else 'other',\n",
      "                'new' if _client_id == _client_id_received and _is_new else 'known'\n",
      "            )\n",
      "\n",
      "\n",
      "CLIENTS = dict()\n",
      "CLIENT_ID = '%s' % os.getpid()\n",
      "\n",
      "# create client\n",
      "client = serf.Client('serf://127.0.0.1:7373')\n",
      "\n",
      "# start event thread\n",
      "event_sender = EventSender(client, CLIENT_ID, )\n",
      "event_sender.setDaemon(True, )\n",
      "event_sender.start()\n",
      "\n",
      "\n",
      "# watch all stream\n",
      "try :\n",
      "    client.stream(\n",
      "            Type='*',\n",
      "        ).add_callback(_callback_stream, ).watch()\n",
      "except KeyboardInterrupt :\n",
      "    sys.exit()\n",
      "\n",
      "```"
     ]
    },
    {
     "cell_type": "markdown",
     "metadata": {},
     "source": [
      "This script, `i_am_alive.py` will send event to the serf and try to receive the event from other `i_am_alive.py` client."
     ]
    },
    {
     "cell_type": "markdown",
     "metadata": {},
     "source": [
      "#### Connect To serf"
     ]
    },
    {
     "cell_type": "markdown",
     "metadata": {},
     "source": [
      "```python\n",
      "import serf\n",
      "\n",
      "client = serf.Client('serf://127.0.0.1:7373', )\n",
      "```\n",
      "\n",
      "This will create `serf` client. The argument, `'serf://127.0.0.1:7373'` means, you will connect two serf server and it has the `7373` `RPC` port. You must set the valid `RPC` address. You can set the multiple serf rpc addresses like this,\n",
      "\n",
      "```python\n",
      "client = serf.Client('serf://127.0.0.1:7373,192.168.0.1:7374', )\n",
      "```\n",
      "\n",
      "You'd better to set the multiple rpc address for persistant connection to cluster. The client of `serf-python` at first will connect the first address you set, and then if that server is lost(server is down, network diabled or any other reasons), the client will try to connect the next one. If all the server is failed to connect, the client will be exited with the exception, `serf._exceptions.ConnectionError`.\n",
      "\n",
      "If you want connect persistantly even if all the connection is lost, use `auto_reconnect=True` argument in `serf.Client` like this,\n",
      "\n",
      "```python\n",
      "client = serf.Client('serf://127.0.0.1:7373', auto_reconnect=True, )\n",
      "```\n"
     ]
    },
    {
     "cell_type": "markdown",
     "metadata": {},
     "source": [
      "#### Send Event"
     ]
    },
    {
     "cell_type": "markdown",
     "metadata": {},
     "source": [
      "Sending event to serf is so simple. In the above `i_am_alive.py`,\n",
      "\n",
      "```python\n",
      "            self._client.event(\n",
      "                    Name='event_i_am_alive-%s' % self._client_id,\n",
      "                    Payload=CLIENT_ID,\n",
      "                    Coalesce=True,\n",
      "                ).request()\n",
      "```\n",
      "\n",
      "To differentiate each client, I included `self._client_id` in the event `Name`."
     ]
    },
    {
     "cell_type": "markdown",
     "metadata": {},
     "source": [
      "#### Collect Clients"
     ]
    },
    {
     "cell_type": "markdown",
     "metadata": {},
     "source": [
      "```python\n",
      "client.stream(\n",
      "        Type='*',\n",
      "    ).add_callback(_callback_stream, ).watch()\n",
      "```\n",
      "\n",
      "This will listen all the event from serf server and call the `_callback_stream` when a response is received.\n",
      "\n",
      "```python\n",
      "def _callback_stream (response, ) :\n",
      "    log.info('got response: %s' % response, )\n",
      "    log.info('\\t body: %s' % response.body, )\n",
      "\n",
      "    if response.body.get('Event') not in ('user', ) :\n",
      "        return\n",
      "\n",
      "    if not response.body.get('Name').startswith('event_i_am_alive-') :\n",
      "        return\n",
      "\n",
      "    _client_id_received = re.compile('^event_i_am_alive-(?P<client_id>\\d+)$').search(\n",
      "            response.body.get('Name', ),\n",
      "        ).groupdict().get('client_id')\n",
      "    _is_new = _client_id_received not in CLIENTS\n",
      "\n",
      "    CLIENTS[_client_id_received] = time.time()\n",
      "\n",
      "    print '\\nfound %d clients: %s' % (len(CLIENTS), time.time(), )\n",
      "    for _client_id, _updated in CLIENTS.items() :\n",
      "        if _updated < time.time() - WAIT_TIME_CLIENT :\n",
      "            del CLIENTS[_client_id]\n",
      "            continue\n",
      "\n",
      "        print '* client-id: %s, last updated: %s, [%-5s], [%-5s]' % (\n",
      "                _client_id,\n",
      "                '%0.2f' % _updated,\n",
      "                'me' if _client_id == CLIENT_ID else 'other',\n",
      "                'new' if _client_id == _client_id_received and _is_new else 'known'\n",
      "            )\n",
      "```\n",
      "\n",
      "This is `_callback_stream`, parses the response and print the collected clients."
     ]
    },
    {
     "cell_type": "markdown",
     "metadata": {},
     "source": [
      "## Running"
     ]
    },
    {
     "cell_type": "markdown",
     "metadata": {},
     "source": [
      "### Deploy serf"
     ]
    },
    {
     "cell_type": "markdown",
     "metadata": {},
     "source": [
      "I will run the 2 serf node with a different port, name and rpc port. \n",
      "\n",
      "* serf0\n",
      "\n",
      "```sh\n",
      "$ serf agent -node serf0 -bind 127.0.0.1:7946 -rpc-addr=127.0.0.1:7373 -join 127.0.0.1:7946 -join 127.0.0.1:7947\n",
      "```\n",
      "\n",
      "* serf1\n",
      "\n",
      "```sh\n",
      "$ serf agent -node serf1 -bind 127.0.0.1:7947 -rpc-addr=127.0.0.1:7374 -join 127.0.0.1:7946 -join 127.0.0.1:7947\n",
      "```\n",
      "\n",
      "This examples will automatically join the 2 nodes as cluster, you can add another node with `-join` option. For more options, see http://www.serfdom.io/docs/agent/basics.html.\n",
      "\n",
      "So we launched serf cluster, which has 2 nodes."
     ]
    },
    {
     "cell_type": "markdown",
     "metadata": {},
     "source": [
      "### Run `i_am_alive.py`"
     ]
    },
    {
     "cell_type": "markdown",
     "metadata": {},
     "source": [
      "We need to open 3 seperated terminal windows and run this in each terminal.\n",
      "\n",
      "```sh\n",
      "$ python i_am_alive.py\n",
      "\n",
      "found 1 clients: 1397120891.38\n",
      "* client-id: 65370, last updated: 1397120891.38, [other], [new  ]\n",
      "\n",
      "found 2 clients: 1397120891.38\n",
      "* client-id: 65535, last updated: 1397120891.38, [me   ], [new  ]\n",
      "* client-id: 65370, last updated: 1397120891.38, [other], [known]\n",
      "\n",
      "found 3 clients: 1397120891.38\n",
      "* client-id: 65535, last updated: 1397120891.38, [me   ], [known]\n",
      "* client-id: 65370, last updated: 1397120891.38, [other], [known]\n",
      "* client-id: 58542, last updated: 1397120891.38, [other], [new  ]\n",
      "\n",
      "...\n",
      "```\n",
      "\n",
      "We will see like this. `i_am_alive.py` will collect client's data and print them. You can replace the code in the `_callback_stream` function with you own code."
     ]
    },
    {
     "cell_type": "markdown",
     "metadata": {},
     "source": [
      "If you find out more deeply in `serf` and `serf-python`, please read the test code for `serf-python` at https://github.com/spikeekips/serf-python/tree/master/test. Next time, I will show you, how to find out the running django servers in real-time using serf.\n",
      "\n",
      "Thanks for reading this post. :)"
     ]
    }
   ],
   "metadata": {}
  }
 ]
}