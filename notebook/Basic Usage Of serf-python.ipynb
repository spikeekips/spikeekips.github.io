{
 "metadata": {
  "name": "",
  "signature": "sha256:d70143975719189ec8b6ba62b6d31d4c745469b56fcd496b1253eca1a5f96acb"
 },
 "nbformat": 3,
 "nbformat_minor": 0,
 "worksheets": [
  {
   "cells": [
    {
     "cell_type": "heading",
     "level": 1,
     "metadata": {},
     "source": [
      "Basic Usage Of serf-python"
     ]
    },
    {
     "cell_type": "code",
     "collapsed": false,
     "input": [
      "print 'Written at',\n",
      "!date"
     ],
     "language": "python",
     "metadata": {},
     "outputs": [
      {
       "output_type": "stream",
       "stream": "stdout",
       "text": [
        "Written atTue Apr  8 20:09:18 KST 2014\r\n"
       ]
      },
      {
       "output_type": "stream",
       "stream": "stdout",
       "text": [
        "\n"
       ]
      }
     ],
     "prompt_number": 2
    },
    {
     "cell_type": "markdown",
     "metadata": {},
     "source": [
      "Recently I found some interesting project, that is [serf](http://www.serfdom.io/) http://www.serfdom.io/. They explains,\n",
      "\n",
      "> Serf is a decentralized solution\n",
      "> for service discovery and orchestration\n",
      "> that is lightweight, highly available, and fault tolerant.\n",
      "\n",
      "For several years, I am trying to find the solution to create cluster for deeply networked applications with easy way. In my past projects, etcd and zookeeper just simply have been used without any further considerations, but the zookeeper is so heavy in my tiny amazon instance, and the etcd very often showed me the unstable situations, so I need another solutions.\n",
      "\n",
      "In fact, serf is still in development and has the critical limitations,\n",
      "\n",
      "* in serf you can not send or broadcast the messages, which is bigger than about 1024 bytes. To overcome this problems, you will be obliged to use the shared storage.\n",
      "* You can not find the mature client libraries for your languages. Until now, only python libraries available, the [serfclient-py](https://github.com/KushalP/serfclient-py) and [serf-python](https://github.com/spikeekips/serf-python).\n",
      "\n",
      "To use serf in my python-based application, I wrote simple client library, written in python, that is [serf-python](https://github.com/spikeekips/serf-python).\n",
      "\n",
      "In this post, I will show you how the serf works and how to use `serf-python`."
     ]
    },
    {
     "cell_type": "heading",
     "level": 3,
     "metadata": {},
     "source": [
      ".. will be continued."
     ]
    }
   ],
   "metadata": {}
  }
 ]
}